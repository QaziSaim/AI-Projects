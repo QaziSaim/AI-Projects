{
  "nbformat": 4,
  "nbformat_minor": 0,
  "metadata": {
    "colab": {
      "provenance": [],
      "authorship_tag": "ABX9TyNcYVvq8Y3XLK5Vfvl8w5av",
      "include_colab_link": true
    },
    "kernelspec": {
      "name": "python3",
      "display_name": "Python 3"
    },
    "language_info": {
      "name": "python"
    }
  },
  "cells": [
    {
      "cell_type": "markdown",
      "metadata": {
        "id": "view-in-github",
        "colab_type": "text"
      },
      "source": [
        "<a href=\"https://colab.research.google.com/github/QaziSaim/AI-Projects/blob/main/LangChainBasicTutorialOne.ipynb\" target=\"_parent\"><img src=\"https://colab.research.google.com/assets/colab-badge.svg\" alt=\"Open In Colab\"/></a>"
      ]
    },
    {
      "cell_type": "code",
      "execution_count": 17,
      "metadata": {
        "id": "SNO5To5xQZCH"
      },
      "outputs": [],
      "source": [
        "!pip install -qU \"langchain[google-genai]\""
      ]
    },
    {
      "cell_type": "code",
      "source": [
        "from google.colab import userdata\n",
        "gemini_api=userdata.get('GEMINI_API')\n"
      ],
      "metadata": {
        "id": "PfQ52PNeTLVT"
      },
      "execution_count": 20,
      "outputs": []
    },
    {
      "cell_type": "code",
      "source": [
        "os.environ['GOOGLE_API_KEY'] = gemini_api"
      ],
      "metadata": {
        "id": "KOEpuaIfTT_w"
      },
      "execution_count": 21,
      "outputs": []
    },
    {
      "cell_type": "code",
      "source": [
        "import getpass\n",
        "import os\n",
        "\n",
        "from langchain.chat_models import init_chat_model\n",
        "\n",
        "llm = init_chat_model(\"gemini-2.5-flash\", model_provider=\"google_genai\")\n",
        "\n"
      ],
      "metadata": {
        "id": "SFvTG86VSXgD"
      },
      "execution_count": 22,
      "outputs": []
    },
    {
      "cell_type": "code",
      "source": [
        "llm.invoke('HelloWorld')"
      ],
      "metadata": {
        "id": "7qNXZVrVSaHK",
        "colab": {
          "base_uri": "https://localhost:8080/"
        },
        "outputId": "006ca69b-93ce-41b9-ef73-1203670d5375"
      },
      "execution_count": 23,
      "outputs": [
        {
          "output_type": "execute_result",
          "data": {
            "text/plain": [
              "AIMessage(content='Hello, World! Here\\'s how you\\'d typically write that in a few popular programming languages:\\n\\n**Python:**\\n\\n```python\\nprint(\"Hello, World!\")\\n```\\n\\n**Java:**\\n\\n```java\\npublic class HelloWorld {\\n    public static void main(String[] args) {\\n        System.out.println(\"Hello, World!\");\\n    }\\n}\\n```\\n\\n**C++:**\\n\\n```cpp\\n#include <iostream>\\n\\nint main() {\\n    std::cout << \"Hello, World!\" << std::endl;\\n    return 0;\\n}\\n```\\n\\n**JavaScript (for web browsers or Node.js):**\\n\\n```javascript\\nconsole.log(\"Hello, World!\");\\n```\\n\\n**C#:**\\n\\n```csharp\\nusing System;\\n\\nclass Program\\n{\\n    static void Main(string[] args)\\n    {\\n        Console.WriteLine(\"Hello, World!\");\\n    }\\n}\\n```\\n\\nWhich language are you interested in, or would you like to see it in another one?', additional_kwargs={}, response_metadata={'prompt_feedback': {'block_reason': 0, 'safety_ratings': []}, 'finish_reason': 'STOP', 'model_name': 'gemini-2.5-flash', 'safety_ratings': []}, id='run--bb2f5249-f059-4181-b97d-012d669d1b70-0', usage_metadata={'input_tokens': 2, 'output_tokens': 273, 'total_tokens': 275, 'input_token_details': {'cache_read': 0}, 'output_token_details': {'reasoning': 54}})"
            ]
          },
          "metadata": {},
          "execution_count": 23
        }
      ]
    },
    {
      "cell_type": "code",
      "source": [
        "from typing import Optional\n",
        "from pydantic import BaseModel, Field\n",
        "\n",
        "class Joke(BaseModel):\n",
        "\n",
        "  setup: str = Field(description='The setup of the joke')\n",
        "  punchline: str= Field(description='The punchline to the joke')\n",
        "  rating: Optional[int] = Field(\n",
        "      default=None, description=\"How funny the joke is, from 1 to 10\"\n",
        "  )\n",
        "\n",
        "structured_llm = llm.with_structured_output(Joke)\n",
        "structured_llm.invoke('Tell me a joke about LLMs with 10 ratings')"
      ],
      "metadata": {
        "colab": {
          "base_uri": "https://localhost:8080/"
        },
        "id": "voefGxG4SqSc",
        "outputId": "e83c92e5-99f6-4ce7-94f8-ac489276211b"
      },
      "execution_count": 28,
      "outputs": [
        {
          "output_type": "execute_result",
          "data": {
            "text/plain": [
              "Joke(setup='Why did the LLM break up with the chatbot?', punchline='It felt like it was always talking to itself!', rating=10)"
            ]
          },
          "metadata": {},
          "execution_count": 28
        }
      ]
    },
    {
      "cell_type": "code",
      "source": [
        "class Fact(BaseModel):\n",
        "  setup: str = Field(description='The setup of the fact')\n",
        "  fact: str = Field(description='The fact about')\n",
        "\n",
        "fat_llm = llm.with_structured_output(Fact)\n",
        "\n",
        "fat_llm.invoke('One real fact about cats')"
      ],
      "metadata": {
        "colab": {
          "base_uri": "https://localhost:8080/"
        },
        "id": "--aonTjZUTMF",
        "outputId": "70dcc680-1f0a-45b7-a4fb-d4e9f998ebb0"
      },
      "execution_count": 34,
      "outputs": [
        {
          "output_type": "execute_result",
          "data": {
            "text/plain": [
              "Fact(setup='Cats', fact='Cats can make over 100 different sounds, whereas dogs can only make about 10.')"
            ]
          },
          "metadata": {},
          "execution_count": 34
        }
      ]
    },
    {
      "cell_type": "code",
      "source": [],
      "metadata": {
        "id": "L8Huf7QDVN8N"
      },
      "execution_count": 32,
      "outputs": []
    }
  ]
}